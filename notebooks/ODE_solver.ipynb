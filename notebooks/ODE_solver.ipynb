{
 "cells": [
  {
   "cell_type": "code",
   "execution_count": 1,
   "id": "1977dfbb-a453-440f-abe5-7b3e97c77077",
   "metadata": {},
   "outputs": [],
   "source": [
    "import os\n",
    "import json\n",
    "\n",
    "import numpy as np\n",
    "import sympy as sym \n",
    "import pandas as pd\n",
    "\n",
    "import scipy.integrate\n",
    "import matplotlib.pyplot as plt\n",
    "\n",
    "from itertools import permutations"
   ]
  },
  {
   "cell_type": "markdown",
   "id": "6996ac5a",
   "metadata": {},
   "source": [
    "# Five state models"
   ]
  },
  {
   "cell_type": "markdown",
   "id": "ca856d33",
   "metadata": {},
   "source": [
    "## Combinatorial network generation"
   ]
  },
  {
   "cell_type": "code",
   "execution_count": 2,
   "id": "3db7f746",
   "metadata": {},
   "outputs": [],
   "source": [
    "## Enumerate state sequences and associated transitions\n",
    "bound_states = ['RB', 'RN', 'RP', 'RW']\n",
    "full_states = bound_states + ['R', 'N', 'P', 'W']\n",
    "\n",
    "transitions_list = []\n",
    "sequence_list = list(permutations(bound_states))\n",
    "\n",
    "state_ids = {k: v for v, k in enumerate(full_states)}\n",
    "state_symbols = {k: sym.symbols(k) for k in full_states}\n",
    "\n",
    "for sequence in sequence_list:\n",
    "    transitions = [('R', sequence[0])]\n",
    "\n",
    "    for s1, s2 in zip(sequence[:-1], sequence[1:]):\n",
    "        transitions.append((s1, s2))\n",
    "        transitions.append((s2, s1))\n",
    "\n",
    "    transitions.append((sequence[-1], 'R'))\n",
    "    transitions_list.append(transitions)"
   ]
  },
  {
   "cell_type": "code",
   "execution_count": 3,
   "id": "99d29fcf",
   "metadata": {},
   "outputs": [],
   "source": [
    "## Work out dynamical equations\n",
    "rhs_list = []\n",
    "rate_symbols_list = []\n",
    "\n",
    "for transitions in transitions_list:\n",
    "    rhs = sym.zeros(len(state_symbols), 1)\n",
    "    rate_symbols = {(s1, s2): sym.symbols(f\"k_{s1[-1]}{s2[-1]}\") for s1, s2 in transitions}\n",
    "\n",
    "    for s1, s2 in transitions:        \n",
    "        if s2[-1] not in ['R', 'B']:\n",
    "            rhs[state_ids[s1]] -= rate_symbols[(s1, s2)] * state_symbols[s1] * state_symbols[s2[-1]]\n",
    "            rhs[state_ids[s2]] += rate_symbols[(s1, s2)] * state_symbols[s1] * state_symbols[s2[-1]]\n",
    "\n",
    "        else:\n",
    "            rhs[state_ids[s1]] -= rate_symbols[(s1, s2)] * state_symbols[s1]\n",
    "            rhs[state_ids[s2]] += rate_symbols[(s1, s2)] * state_symbols[s1]\n",
    "\n",
    "    rhs[state_ids['N']] = -rhs[state_ids['RN']]\n",
    "    rhs[state_ids['P']] = -rhs[state_ids['RP']]\n",
    "    rhs[state_ids['W']] = -rhs[state_ids['RW']]\n",
    "\n",
    "    rhs_list.append(rhs)\n",
    "    rate_symbols_list.append(rate_symbols)\n"
   ]
  },
  {
   "cell_type": "markdown",
   "id": "4af3bdae",
   "metadata": {},
   "source": [
    "## Parameter inference"
   ]
  },
  {
   "cell_type": "code",
   "execution_count": 4,
   "id": "70cec87d",
   "metadata": {},
   "outputs": [],
   "source": [
    "biophys_df = pd.read_csv('../data/biophysical_params_HeLa.csv', comment='#')#, delimiter=',')#,quotechar='\"')\n",
    "\n",
    "parameter_dict_wt = dict(zip(biophys_df['parameter'].values, biophys_df['value'].values))"
   ]
  },
  {
   "cell_type": "code",
   "execution_count": 5,
   "id": "eeb85a3d",
   "metadata": {},
   "outputs": [],
   "source": [
    "## Set parameters and variables\n",
    "parameters = sym.symbols(list(parameter_dict_wt.keys()))\n",
    "tau_N, F_N, N_N, tau_P, F_P, N_P, tau_W, F_W, N_W, tau_R, F_R, N_R = parameters\n",
    "\n",
    "variables = state_symbols.values()\n",
    "RB, RN, RP, RW, R, N, P, W = variables"
   ]
  },
  {
   "cell_type": "code",
   "execution_count": 6,
   "id": "329d6b09",
   "metadata": {},
   "outputs": [],
   "source": [
    "## Set substitution dictionaries for equilibrium concentrations\n",
    "subs_dict = {'RB': N_R * F_R - N_N * F_N - N_P * F_P - N_W * F_W,\n",
    "             'RN': N_N * F_N,\n",
    "             'RP': N_P * F_P,\n",
    "             'RW': N_W * F_W,\n",
    "             'R': N_R * (1 - F_R),   \n",
    "             'N': N_N * (1 - F_N),\n",
    "             'P': N_P * (1 - F_P),\n",
    "             'W': N_W * (1 - F_W)}\n",
    "\n",
    "subs_R = {k: v for k, v in subs_dict.items() if k not in ['R']}\n",
    "subs_N = {k: v for k, v in subs_dict.items() if k not in ['N', 'RN']}\n",
    "subs_P = {k: v for k, v in subs_dict.items() if k not in ['P', 'RP']}\n",
    "subs_W = {k: v for k, v in subs_dict.items() if k not in ['W', 'RW']}"
   ]
  },
  {
   "cell_type": "code",
   "execution_count": 7,
   "id": "2fb63966",
   "metadata": {},
   "outputs": [],
   "source": [
    "## Map cohesin transition rates to PDS5/WAPL/NIPBL/PDS5 measurements\n",
    "rate_dict_list = []\n",
    "\n",
    "for i, rhs in enumerate(rhs_list):\n",
    "    rate_dict = {}\n",
    "\n",
    "    rate_symbols = rate_symbols_list[i]\n",
    "    rhs_eq = sym.zeros(len(rate_symbols), 1)\n",
    "\n",
    "    eq_R = rhs[state_ids['R']].subs(subs_R)\n",
    "    eq_N = rhs[state_ids['N']].subs(subs_N)\n",
    "    eq_P = rhs[state_ids['P']].subs(subs_P)\n",
    "    eq_W = rhs[state_ids['W']].subs(subs_W)\n",
    "\n",
    "    # Equilibrium subunit bound fractions\n",
    "    rhs_eq[state_ids['R']] = sym.collect(eq_R, R).coeff(R, 1) + 1/tau_R * F_R / (1-F_R)\n",
    "    rhs_eq[state_ids['N']] = sym.collect(eq_N, N).coeff(N, 1) + 1/tau_N * F_N / (1-F_N)\n",
    "    rhs_eq[state_ids['P']] = sym.collect(eq_P, P).coeff(P, 1) + 1/tau_P * F_P / (1-F_P)\n",
    "    rhs_eq[state_ids['W']] = sym.collect(eq_W, W).coeff(W, 1) + 1/tau_W * F_W / (1-F_W)\n",
    "\n",
    "    # Equilibrium subunit residence times\n",
    "    rhs_eq[state_ids['RB']] = sym.collect(eq_R, R).coeff(R, 0) - N_R*F_R/tau_R\n",
    "    rhs_eq[state_ids['RN']] = sym.collect(eq_N, RN).coeff(RN, 1) - 1/tau_N\n",
    "    rhs_eq[state_ids['RP']] = sym.collect(eq_P, RP).coeff(RP, 1) - 1/tau_P\n",
    "    rhs_eq[state_ids['RW']] = sym.collect(eq_W, RW).coeff(RW, 1) - 1/tau_W\n",
    "\n",
    "    sol_rates = sym.solve(rhs_eq, *rate_symbols.values())\n",
    "\n",
    "    for rate, expr in sol_rates.items():\n",
    "        value = expr.evalf(subs=parameter_dict_wt)\n",
    "        rate_dict[str(rate)] = value\n",
    "\n",
    "    rate_dict_list.append(rate_dict)\n"
   ]
  },
  {
   "cell_type": "code",
   "execution_count": 8,
   "id": "cb6a7735",
   "metadata": {},
   "outputs": [
    {
     "name": "stdout",
     "output_type": "stream",
     "text": [
      "[('RB', 'RP', 'RN', 'RW'), ('RN', 'RB', 'RP', 'RW'), ('RN', 'RP', 'RB', 'RW'), ('RP', 'RB', 'RN', 'RW'), ('RW', 'RB', 'RP', 'RN'), ('RW', 'RN', 'RB', 'RP'), ('RW', 'RN', 'RP', 'RB'), ('RW', 'RP', 'RB', 'RN')]\n"
     ]
    }
   ],
   "source": [
    "# Enumerate all models with physical kinetics (i.e. positive rates)\n",
    "candidate_list = []\n",
    "\n",
    "for sequence, rate_dict in zip(sequence_list, rate_dict_list):\n",
    "    has_physical_kinetics = all(value > 0 for value in rate_dict.values())\n",
    "            \n",
    "    if has_physical_kinetics:\n",
    "        candidate_list.append(sequence)\n",
    "\n",
    "print(candidate_list)"
   ]
  },
  {
   "cell_type": "markdown",
   "id": "4c0bd371",
   "metadata": {},
   "source": [
    "## Time integration"
   ]
  },
  {
   "cell_type": "code",
   "execution_count": 9,
   "id": "694d0f7e",
   "metadata": {},
   "outputs": [],
   "source": [
    "## Set initial state and integration time interval\n",
    "init_state = sym.Matrix([[0, 0, 0, 0, # Starting from completely unbound population of RAD21\n",
    "                          N_R, N_N, N_P, N_W]]) # Degrons can now be simulated by updating protein levels directly from init_state\n",
    "\n",
    "t = sym.symbols('t') \n",
    "t_eval = np.linspace(0, 60 * 600, 10000) # evaluate integral from t = 0-600 minutes for 10000 points\n",
    "\n",
    "tspan = (t_eval[0], t_eval[-1])"
   ]
  },
  {
   "cell_type": "code",
   "execution_count": 10,
   "id": "7a8cbba2",
   "metadata": {},
   "outputs": [],
   "source": [
    "# Integrate coupled mass action equations\n",
    "def solve_kinetics(rhs, rate_dict, parameter_dict):\n",
    "    rhs_eval = list(rhs.evalf(subs=rate_dict))\n",
    "    y0 = list(init_state.evalf(subs=parameter_dict))\n",
    "\n",
    "    f = sym.lambdify((t, variables), rhs_eval)\n",
    "\n",
    "    solution = scipy.integrate.solve_ivp(f, tspan, y0, t_eval=t_eval)\n",
    "\n",
    "    return solution.y"
   ]
  },
  {
   "cell_type": "code",
   "execution_count": 11,
   "id": "9c598f34",
   "metadata": {},
   "outputs": [],
   "source": [
    "# Get change in bound fraction of a given species\n",
    "def relative_bound(species, parameter_dict_wt, parameter_dict_mut, final_state_wt, final_state_mut):                \n",
    "    if species in state_symbols:\n",
    "        abundance_key = f\"N_{species}\"\n",
    "\n",
    "        wt_bound = parameter_dict_wt[abundance_key] - final_state_wt[state_ids[species]]\n",
    "        mut_bound = parameter_dict_mut[abundance_key] - final_state_mut[state_ids[species]]\n",
    "\n",
    "        return mut_bound / wt_bound\n",
    "    \n",
    "    else:\n",
    "        raise ValueError('Perturbation consequence not in known state symbols')"
   ]
  },
  {
   "cell_type": "code",
   "execution_count": 12,
   "id": "cba4f434",
   "metadata": {},
   "outputs": [],
   "source": [
    "# pertubation = [perturb_param, perturb_ratio, conditions={species:relative_bound_ratio}]\n",
    "perturbations = [\n",
    "    ['N_W', 1/5, {'R':'>1'}], #F_R goes up in dWAPL: Wutz2017 Fig4F \n",
    "    ['N_P', 1/5, {'R':'>1'}],  #F_R goes up in dPDS5: Wutz2017 Fig4F\n",
    "    ['N_N', 1/5, {'R':'<1'}],  #F_R goes down in dNIPBL: Haarhuis2017 Fig4E\n",
    "]"
   ]
  },
  {
   "cell_type": "code",
   "execution_count": 13,
   "id": "7d64570f",
   "metadata": {},
   "outputs": [
    {
     "name": "stdout",
     "output_type": "stream",
     "text": [
      "[('RN', 'RB', 'RP', 'RW')]\n"
     ]
    }
   ],
   "source": [
    "verbose = False\n",
    "\n",
    "# Enumerate all models satisfying experimental constraints\n",
    "for sequence, rhs, rate_dict in zip(sequence_list, rhs_list, rate_dict_list):\n",
    "    if sequence in candidate_list:\n",
    "        final_state_wt = solve_kinetics(rhs, rate_dict, parameter_dict_wt)[:,-1]\n",
    "        check_list = []\n",
    "\n",
    "        for perturbation in perturbations:\n",
    "            perturbation_param, perturbation_ratio, consequences = perturbation\n",
    "            \n",
    "            parameter_dict_mut = parameter_dict_wt.copy()\n",
    "            parameter_dict_mut[perturbation_param] *= perturbation_ratio\n",
    "\n",
    "            final_state_mut = solve_kinetics(rhs, rate_dict, parameter_dict_mut)[:,-1]\n",
    "\n",
    "            for species, value in consequences.items():\n",
    "                ratio = relative_bound(species, parameter_dict_wt, parameter_dict_mut, final_state_wt, final_state_mut)                \n",
    "                check_list.append(eval(f\"{ratio}{value}\"))\n",
    "        \n",
    "        if verbose: \n",
    "            print(check_list)\n",
    "\n",
    "        if not np.array(check_list).all():\n",
    "            candidate_list.remove(sequence)\n",
    "\n",
    "print(candidate_list)"
   ]
  },
  {
   "cell_type": "code",
   "execution_count": 14,
   "id": "b5c87dee",
   "metadata": {},
   "outputs": [
    {
     "data": {
      "image/png": "[encoded data removed]",
      "text/plain": [
       "<Figure size 500x500 with 1 Axes>"
      ]
     },
     "metadata": {},
     "output_type": "display_data"
    }
   ],
   "source": [
    "figwidth = 5\n",
    "\n",
    "for sequence in candidate_list:\n",
    "    i = sequence_list.index(sequence)\n",
    "\n",
    "    rhs = rhs_list[i]    \n",
    "    rate_dict = rate_dict_list[i]\n",
    "\n",
    "    solution = solve_kinetics(rhs, rate_dict, parameter_dict_wt)\n",
    "\n",
    "    fig = plt.figure(figsize=(figwidth, figwidth)) \n",
    "    ax = plt.subplot(1,1,1)\n",
    "\n",
    "    ax.set_prop_cycle('color', ['#ff7f0e', '#1f77b4', '#2ca02c', '#9467bd', '#d62728'])\n",
    "\n",
    "    plt.plot(t_eval, solution[:5].T / parameter_dict_wt['N_R'], lw=2) \n",
    "\n",
    "    ax.legend(list(variables)[:5], shadow=False,\n",
    "              loc='center left', bbox_to_anchor=(1, 0.5))\n",
    "\n",
    "    plt.title(sequence)\n",
    "\n",
    "    plt.grid(True)\n",
    "\n",
    "    _ = plt.xlabel('Time, seconds')\n",
    "    _ = plt.ylabel('State occupancy, normalized')\n",
    "\n",
    "    sequence_string = \"_\".join(sequence)\n",
    "    output_kin_path = f\"../data/state_kinetics_HeLa_{sequence_string}.res\"\n",
    "\n",
    "    ordered_solution = solution[np.argsort(list(sequence) + ['R'])]\n",
    "    np.savetxt(output_kin_path, np.r_[t_eval[None,:], ordered_solution].T)"
   ]
  },
  {
   "cell_type": "code",
   "execution_count": 15,
   "id": "e7750707",
   "metadata": {},
   "outputs": [],
   "source": [
    "variable_list = list(map(str, variables))"
   ]
  },
  {
   "cell_type": "code",
   "execution_count": 16,
   "id": "150da4a1",
   "metadata": {},
   "outputs": [],
   "source": [
    "def create_extrusion_dict(reference_dict, sequence, rhs, rate_dict, parameter_dict, update_velocity=False, types=['A']):\n",
    "    solution = solve_kinetics(rhs, rate_dict, parameter_dict)\n",
    "    final_state = solution[:,-1]\n",
    "\n",
    "    extrusion_dict = reference_dict.copy()\n",
    "    extrusion_dict[\"LEF_states\"] = {k: v+1 for v, k in enumerate(sequence)}\n",
    "\n",
    "    for rate, value in rate_dict.items():\n",
    "        s1 = f\"R{rate[-2]}\"\n",
    "        s2 = f\"R{rate[-1]}\"\n",
    "\n",
    "        id1 = sequence.index(s1)+1 if s1 in sequence else 0\n",
    "        id2 = sequence.index(s2)+1 if s2 in sequence else 0\n",
    "\n",
    "        rate_key = f\"{id1}{id2}\"\n",
    "    \n",
    "        if rate[-1] not in ['R', 'B']:\n",
    "            k = variable_list.index(rate[-1])\n",
    "            value *= final_state[k]\n",
    "\n",
    "        if (id1 != 0) & (id2 != 0):\n",
    "            extrusion_dict[\"LEF_transition_rates\"][rate_key] = {t: float(value) for t in types}\n",
    "        elif id1 == 0:\n",
    "            extrusion_dict[\"LEF_on_rate\"] = {t: float(value) for t in types}\n",
    "        elif id2 == 0:\n",
    "            extrusion_dict[\"LEF_off_rate\"] = {t: float(value) for t in types}\n",
    "            extrusion_dict[\"LEF_stalled_off_rate\"] = {t: float(value) for t in types}\n",
    "\n",
    "    # Update velocity multiplier based on equilibrium proportion of active extruders so that average extrusion velocity remains unchanged\n",
    "    # Note that this assumes that the reference dict corresponds to a two-state extruder with constant extrusion velocity\n",
    "    if update_velocity:    \n",
    "        active_index = variable_list.index('RN')\n",
    "        rescale_velocity = parameter_dict['F_R'] * parameter_dict['N_R'] / final_state[active_index]\n",
    "\n",
    "        extrusion_dict[\"velocity_multiplier\"] *= rescale_velocity\n",
    "\n",
    "    return extrusion_dict"
   ]
  },
  {
   "cell_type": "code",
   "execution_count": 17,
   "id": "4451eecd",
   "metadata": {},
   "outputs": [],
   "source": [
    "# Output rates to dictionary\n",
    "for sequence in candidate_list:\n",
    "    with open(\"../data/extrusion_dict_HeLa_twostate.json\", 'r') as dict_file:\n",
    "        reference_dict = json.load(dict_file) \n",
    "\n",
    "    i = sequence_list.index(sequence)\n",
    "\n",
    "    rhs = rhs_list[i]\n",
    "    rate_dict = rate_dict_list[i]\n",
    "\n",
    "    parameter_dict = parameter_dict_wt.copy()\n",
    "    extrusion_dict = create_extrusion_dict(reference_dict, sequence, rhs, rate_dict, parameter_dict, update_velocity=True)\n",
    "\n",
    "    sequence_string = \"_\".join(sequence)\n",
    "    output_dict_path = f\"../data/extrusion_dict_HeLa_{sequence_string}.json\"\n",
    "\n",
    "    with open(output_dict_path, 'w') as output_dict_file:\n",
    "        json.dump(extrusion_dict, output_dict_file, indent=4)\n"
   ]
  },
  {
   "cell_type": "code",
   "execution_count": 18,
   "id": "541985d7",
   "metadata": {},
   "outputs": [
    {
     "data": {
      "image/png": "[encoded data removed]",
      "text/plain": [
       "<Figure size 500x500 with 1 Axes>"
      ]
     },
     "metadata": {},
     "output_type": "display_data"
    }
   ],
   "source": [
    "# Simulate WAPL depletion\n",
    "for sequence in candidate_list:\n",
    "    i = sequence_list.index(sequence)\n",
    "        \n",
    "    rhs = rhs_list[i]    \n",
    "    rate_dict = rate_dict_list[i]\n",
    "\n",
    "    parameter_dict_dWAPL = parameter_dict_wt.copy()\n",
    "    parameter_dict_dWAPL['N_W'] /= 5\n",
    "\n",
    "    solution_wt = solve_kinetics(rhs, rate_dict, parameter_dict_wt)\n",
    "    solution_dWAPL = solve_kinetics(rhs, rate_dict, parameter_dict_dWAPL)\n",
    "\n",
    "    fig = plt.figure(figsize=(figwidth, figwidth)) \n",
    "    ax = plt.subplot(1,1,1)\n",
    "\n",
    "    ax.set_prop_cycle('color', ['#ff7f0e', '#1f77b4', '#2ca02c', '#9467bd', '#d62728'])\n",
    "\n",
    "    plt.plot(t_eval, solution_wt[:5].T / parameter_dict_wt['N_R'], lw=2) \n",
    "\n",
    "    plt.plot([], [], 'k', lw=2) \n",
    "    plt.plot([], [], 'k--', lw=2) \n",
    "\n",
    "    plt.plot(t_eval, solution_dWAPL[:5].T / parameter_dict_dWAPL['N_R'], ls='--', lw=2) \n",
    "\n",
    "    ax.legend(list(variables)[:5]+['WT', 'dWAPL'], shadow=False,\n",
    "              loc='center left', bbox_to_anchor=(1, 0.5))\n",
    "\n",
    "    plt.title(sequence)\n",
    "\n",
    "    plt.grid(True)\n",
    "\n",
    "    _ = plt.xlabel('time, seconds')\n",
    "    _ = plt.ylabel('state occupancy, normalized')\n"
   ]
  },
  {
   "cell_type": "code",
   "execution_count": 19,
   "id": "001998e6",
   "metadata": {},
   "outputs": [],
   "source": [
    "# Generate mutant dictionaries across multiple depletion levels\n",
    "parameter = 'N_W'\n",
    "depletion_levels = np.linspace(0.1, 1, num=10)\n",
    "\n",
    "out_dir = f\"../data/{parameter}\"\n",
    "\n",
    "if not os.path.exists(out_dir):\n",
    "    os.makedirs(out_dir)"
   ]
  },
  {
   "cell_type": "code",
   "execution_count": 20,
   "id": "500f2586",
   "metadata": {},
   "outputs": [],
   "source": [
    "for sequence in candidate_list:\n",
    "    i = sequence_list.index(sequence)\n",
    "    sequence_string = \"_\".join(sequence)\n",
    "\n",
    "    rhs = rhs_list[i]\n",
    "    rate_dict = rate_dict_list[i]\n",
    "    \n",
    "    with open(f\"../data/extrusion_dict_HeLa_{sequence_string}.json\", 'r') as dict_file:\n",
    "        reference_dict = json.load(dict_file) \n",
    "        \n",
    "    for level in depletion_levels:\n",
    "        parameter_dict = parameter_dict_wt.copy()\n",
    "        parameter_dict[parameter] *= level\n",
    "\n",
    "        extrusion_dict = create_extrusion_dict(reference_dict, sequence, rhs, rate_dict, parameter_dict)\n",
    "\n",
    "        output_dict_path = f\"{out_dir}/extrusion_dict_HeLa_{sequence_string}_{level:.2f}.json\"\n",
    "\n",
    "        with open(output_dict_path, 'w') as output_dict_file:\n",
    "            json.dump(extrusion_dict, output_dict_file, indent=4)"
   ]
  }
 ],
 "metadata": {
  "kernelspec": {
   "display_name": "Python 3 (ipykernel)",
   "language": "python",
   "name": "python3"
  },
  "language_info": {
   "codemirror_mode": {
    "name": "ipython",
    "version": 3
   },
   "file_extension": ".py",
   "mimetype": "text/x-python",
   "name": "python",
   "nbconvert_exporter": "python",
   "pygments_lexer": "ipython3",
   "version": "3.13.0"
  }
 },
 "nbformat": 4,
 "nbformat_minor": 5
}
